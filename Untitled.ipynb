{
 "cells": [
  {
   "cell_type": "code",
   "execution_count": 27,
   "id": "d4d093fe-db2e-43a8-8049-06e6d9ab1e2f",
   "metadata": {},
   "outputs": [
    {
     "data": {
      "text/plain": [
       "'follower'"
      ]
     },
     "execution_count": 27,
     "metadata": {},
     "output_type": "execute_result"
    }
   ],
   "source": [
    "social_graph = {\n",
    "    \"@bongolpoc\":{\"first_name\":\"Joselito\",\n",
    "                  \"last_name\":\"Olpoc\",\n",
    "                  \"following\":[\n",
    "                  ]\n",
    "    },\n",
    "    \"@joaquin\":  {\"first_name\":\"Joaquin\",\n",
    "                  \"last_name\":\"Gonzales\",\n",
    "                  \"following\":[\n",
    "                      \"@chums\",\"@jobenilagan\"\n",
    "                  ]\n",
    "    },\n",
    "    \"@chums\" : {\"first_name\":\"Matthew\",\n",
    "                \"last_name\":\"Uy\",\n",
    "                \"following\":[\n",
    "                    \"@bongolpoc\",\"@miketan\",\"@rudyang\",\"@joeilagan\"\n",
    "                ]\n",
    "    },\n",
    "    \"@jobenilagan\":{\"first_name\":\"Joben\",\n",
    "                   \"last_name\":\"Ilagan\",\n",
    "                   \"following\":[\n",
    "                    \"@eeebeee\",\"@joeilagan\",\"@chums\",\"@joaquin\"\n",
    "                   ]\n",
    "    },\n",
    "    \"@joeilagan\":{\"first_name\":\"Joe\",\n",
    "                  \"last_name\":\"Ilagan\",\n",
    "                  \"following\":[\n",
    "                    \"@eeebeee\",\"@jobenilagan\",\"@chums\"\n",
    "                  ]\n",
    "    },\n",
    "    \"@eeebeee\":  {\"first_name\":\"Elizabeth\",\n",
    "                  \"last_name\":\"Ilagan\",\n",
    "                  \"following\":[\n",
    "                    \"@jobenilagan\",\"@joeilagan\"\n",
    "                  ]\n",
    "    },\n",
    "}\n",
    "\n",
    "def relationship_status(from_member, to_member, social_graph):\n",
    "    if to_member not in social_graph:\n",
    "        if to_member in social_graph[from_member][\"following\"]:\n",
    "            return \"follower\"\n",
    "        else:\n",
    "            return \"no relationship\"\n",
    "    elif to_member in social_graph[from_member][\"following\"]:\n",
    "        if from_member in social_graph[to_member][\"following\"]:\n",
    "            return \"friends\"\n",
    "        else:\n",
    "            return \"follower\"\n",
    "    else:\n",
    "        if from_member in social_graph[to_member][\"following\"]:\n",
    "            return \"followed\"\n",
    "        else:\n",
    "            return \"no relationship\"\n",
    "\n",
    "relationship_status(\"@jobenilagan\", \"@chums\", social_graph)"
   ]
  },
  {
   "cell_type": "code",
   "execution_count": null,
   "id": "4c25747d-eb27-4ed9-b39e-33f886306330",
   "metadata": {},
   "outputs": [],
   "source": []
  },
  {
   "cell_type": "code",
   "execution_count": 18,
   "id": "2fa006a7-be33-4619-84c1-f492208f836f",
   "metadata": {},
   "outputs": [
    {
     "data": {
      "text/plain": [
       "'NO WINNER'"
      ]
     },
     "execution_count": 18,
     "metadata": {},
     "output_type": "execute_result"
    }
   ],
   "source": [
    "board1 = [\n",
    "['X','X','O'],\n",
    "['O','X','O'],\n",
    "['O','','X'],\n",
    "]\n",
    "\n",
    "board2 = [\n",
    "['X','X','O'],\n",
    "['O','X','O'],\n",
    "['','O','X'],\n",
    "]\n",
    "\n",
    "board3 = [\n",
    "['O','X','O'],\n",
    "['','O','X'],\n",
    "['X','X','O'],\n",
    "]\n",
    "\n",
    "board4 = [\n",
    "['X','X','X'],\n",
    "['O','X','O'],\n",
    "['O','','O'],\n",
    "]\n",
    "\n",
    "board5 = [\n",
    "['X','X','O'],\n",
    "['O','X','O'],\n",
    "['X','','O'],\n",
    "]\n",
    "\n",
    "board6 = [\n",
    "['X','X','O'],\n",
    "['O','X','O'],\n",
    "['X','',''],\n",
    "]\n",
    "\n",
    "board7 = [\n",
    "['X','X','O',''],\n",
    "['O','X','O','O'],\n",
    "['X','','','O'],\n",
    "['O','X','','']\n",
    "]\n",
    "\n",
    "def tic_tac_toe(board):\n",
    "    length = len(board)\n",
    "    horizontal = [x for x in board]\n",
    "    vertical = [x for x in zip(*board)]\n",
    "    ul_lr = [board[i][i] for i in range(length)]\n",
    "    ll_ur = [board[length-1-i][i] for i in range(length)]\n",
    "    \n",
    "      \n",
    "    if length == 3:\n",
    "        if ['O','O','O'] in horizontal:\n",
    "            return 'O'\n",
    "        elif ['X','X','X'] in horizontal:\n",
    "            return 'X'\n",
    "        else:\n",
    "            if ('O','O','O') in vertical:\n",
    "                return 'O'\n",
    "            elif ('X','X','X') in vertical:\n",
    "                return 'X'\n",
    "            else:\n",
    "                if ul_lr == ['O','O','O']:\n",
    "                    return 'O'\n",
    "                elif ul_lr == ['X','X','X']:\n",
    "                    return 'X'\n",
    "                else:\n",
    "                    if ll_ur == ['O','O','O']:\n",
    "                        return 'O'\n",
    "                    elif ll_ur == ['X','X','X']:\n",
    "                        return 'X'\n",
    "                    else:\n",
    "                        return 'NO WINNER'                  \n",
    "    elif length == 4:\n",
    "        if ['O','O','O','O'] in horizontal:\n",
    "            return 'O'\n",
    "        elif ['X','X','X','X'] in horizontal:\n",
    "            return 'X'\n",
    "        else:\n",
    "            if ('O','O','O','O') in vertical:\n",
    "                return 'O'\n",
    "            elif ('X','X','X','X') in vertical:\n",
    "                return 'X'\n",
    "            else:\n",
    "                if ul_lr == ['O','O','O','O']:\n",
    "                    return 'O'\n",
    "                elif ul_lr == ['X','X','X','X']:\n",
    "                    return 'X'\n",
    "                else:\n",
    "                    if ll_ur == ['O','O','O']:\n",
    "                        return 'O'\n",
    "                    elif ll_ur == ['X','X','X']:\n",
    "                        return 'X'\n",
    "                    else:\n",
    "                        return 'NO WINNER'\n",
    "    elif length == 5:\n",
    "        if ['O','O','O','O','O'] in horizontal:\n",
    "            return 'O'\n",
    "        elif ['X','X','X','X','X'] in horizontal:\n",
    "            return 'X'\n",
    "        else:\n",
    "            if ('O','O','O','O','O') in vertical:\n",
    "                return 'O'\n",
    "            elif ('X','X','X','X','X') in vertical:\n",
    "                return 'X'\n",
    "            else:\n",
    "                if ul_lr == ['O','O','O','O','O']:\n",
    "                    return 'O'\n",
    "                elif ul_lr == ['X','X','X','X','X']:\n",
    "                    return 'X'\n",
    "                else:\n",
    "                    if ll_ur == ['O','O','O','O','O']:\n",
    "                        return 'O'\n",
    "                    elif ll_ur == ['X','X','X','X','X']:\n",
    "                        return 'X'\n",
    "                    else:\n",
    "                        return 'NO WINNER'\n",
    "    elif length == 6:\n",
    "        if ['O','O','O','O','O','O'] in horizontal:\n",
    "            return 'O'\n",
    "        elif ['X','X','X','X','X','X'] in horizontal:\n",
    "            return 'X'\n",
    "        else:\n",
    "            if ('O','O','O','O','O','O') in vertical:\n",
    "                return 'O'\n",
    "            elif ('X','X','X','X','X','X') in vertical:\n",
    "                return 'X'\n",
    "            else:\n",
    "                if ul_lr == ['O','O','O','O','O','O']:\n",
    "                    return 'O'\n",
    "                elif ul_lr == ['X','X','X','X','X','X']:\n",
    "                    return 'X'\n",
    "                else:\n",
    "                    if ll_ur == ['O','O','O','O','O','O']:\n",
    "                        return '6O'\n",
    "                    elif ll_ur == ['X','X','X','X','X','X']:\n",
    "                        return 'X'\n",
    "                    else:\n",
    "                        return 'NO WINNER'\n",
    "    else:\n",
    "        return 'board parameter exceeded'\n",
    "    \n",
    "tic_tac_toe(board7)"
   ]
  },
  {
   "cell_type": "code",
   "execution_count": 184,
   "id": "509c0c9c-76da-46b5-9d3f-856b745599c6",
   "metadata": {},
   "outputs": [],
   "source": [
    "legs = {\n",
    "     (\"upd\",\"admu\"):{\n",
    "         \"travel_time_mins\":10\n",
    "     },\n",
    "     (\"admu\",\"dlsu\"):{\n",
    "         \"travel_time_mins\":35\n",
    "     },\n",
    "     (\"dlsu\",\"upd\"):{\n",
    "         \"travel_time_mins\":55\n",
    "     }\n",
    "}\n",
    "\n",
    "def eta(first_stop, second_stop, route_map):\n",
    "    upd_admu = int(10)\n",
    "    upd_dlsu = int(45)\n",
    "    admu_dlsu = int(35)\n",
    "    admu_upd = int(100)\n",
    "    dlsu_upd = int(55)\n",
    "    dlsu_admu = int(65)\n",
    "    \n",
    "    if route_map == \"legs\":\n",
    "        if first_stop == \"up\" and second_stop == \"admu\":\n",
    "            return upd_admu\n",
    "        elif first_stop == \"up\" and second_stop == \"dlsu\":\n",
    "            return upd_dlsu\n",
    "        else:\n",
    "            if first_stop == \"admu\" and second_stop == \"dlsu\":\n",
    "                return admu_dlsu\n",
    "            elif first_stop == \"admu\" and second_stop == \"upd\":\n",
    "                return admu_upd\n",
    "            else: \n",
    "                if first_stop == \"dlsu\" and second_stop == \"upd\":\n",
    "                    return dlsu_upd\n",
    "                elif first_stop == \"dlsu\" and second_stop == \"admu\":\n",
    "                    return dlsu_admu\n",
    "                else:\n",
    "                    return int(100)  \n",
    "            \n",
    "eta(\"up\", \"up\", legs)"
   ]
  },
  {
   "cell_type": "code",
   "execution_count": 187,
   "id": "38ce14f4-bdb4-40c0-93e8-8d2de8072ee7",
   "metadata": {},
   "outputs": [
    {
     "data": {
      "text/plain": [
       "False"
      ]
     },
     "execution_count": 187,
     "metadata": {},
     "output_type": "execute_result"
    }
   ],
   "source": [
    "legs = {\n",
    "     (\"upd\",\"admu\"):{\n",
    "         \"travel_time_mins\":10\n",
    "     },\n",
    "     (\"admu\",\"dlsu\"):{\n",
    "         \"travel_time_mins\":35\n",
    "     },\n",
    "     (\"dlsu\",\"upd\"):{\n",
    "         \"travel_time_mins\":55\n",
    "     }\n",
    "}\n",
    "def eta(first_stop, second_stop, route_map):\n",
    "    for value in route_map.values():\n",
    "        if (first_stop in value):\n",
    "            return True\n",
    "        else:\n",
    "            return False\n",
    "        \n",
    "eta(\"upd\", \"admu\", legs)"
   ]
  },
  {
   "cell_type": "code",
   "execution_count": 7,
   "id": "d334fba8-b489-42ff-b6a4-2831f9cd2d40",
   "metadata": {},
   "outputs": [
    {
     "data": {
      "text/plain": [
       "('upd', 'admu')"
      ]
     },
     "execution_count": 7,
     "metadata": {},
     "output_type": "execute_result"
    }
   ],
   "source": [
    "legs = {\n",
    "     (\"upd\",\"admu\"):{\n",
    "         \"travel_time_mins\":10\n",
    "     },\n",
    "     (\"admu\",\"dlsu\"):{\n",
    "         \"travel_time_mins\":35\n",
    "     },\n",
    "     (\"dlsu\",\"upd\"):{\n",
    "         \"travel_time_mins\":55\n",
    "     }\n",
    "}\n",
    "\n",
    "def eta(route_map):\n",
    "    for i==-, key in enumerate(route_map.keys()):\n",
    "        if :\n",
    "            return key\n",
    "eta(legs)"
   ]
  },
  {
   "cell_type": "code",
   "execution_count": 9,
   "id": "d407f949-6274-41d6-a415-63c2e8ca8e8a",
   "metadata": {},
   "outputs": [
    {
     "name": "stdout",
     "output_type": "stream",
     "text": [
      "[]\n"
     ]
    }
   ],
   "source": [
    "legs = {\n",
    "     (\"upd\",\"admu\"):{\n",
    "         \"travel_time_mins\":10\n",
    "     },\n",
    "     (\"admu\",\"dlsu\"):{\n",
    "         \"travel_time_mins\":35\n",
    "     },\n",
    "     (\"dlsu\",\"upd\"):{\n",
    "         \"travel_time_mins\":55\n",
    "     }\n",
    "}\n",
    "\n",
    "index_key = \"upd, admu\"\n",
    "out = list(legs.items()) \n",
    "new_value = [x for x, key in enumerate(out) if key[0] == index_key]\n",
    "print(str(new_value))"
   ]
  },
  {
   "cell_type": "code",
   "execution_count": 143,
   "id": "5468b8d5-8e67-46e5-b6e2-d9d0687afbe7",
   "metadata": {},
   "outputs": [
    {
     "data": {
      "text/plain": [
       "{'travel_time_mins': 10}"
      ]
     },
     "execution_count": 143,
     "metadata": {},
     "output_type": "execute_result"
    }
   ],
   "source": [
    "legs = {(\"upd\",\"admu\"):{\"travel_time_mins\":10},(\"admu\",\"dlsu\"):{\"travel_time_mins\":35},(\"dlsu\",\"upd\"):{\"travel_time_mins\":55}}\n",
    "def eta(first_stop, second_stop, route_map):\n",
    "    possible_routes = []\n",
    "    if first_stop == second_stop:\n",
    "        return possible_routes\n",
    "    for path in legs:\n",
    "        x,y = path\n",
    "        if first_stop == x:\n",
    "            if second_stop == y:\n",
    "                for key in route_map:\n",
    "                    return route_map[key]\n",
    "        else:\n",
    "            return ' '\n",
    "\n",
    "eta(\"upd\", \"admu\", legs)"
   ]
  },
  {
   "cell_type": "code",
   "execution_count": 7,
   "id": "f25395cf-cd59-4d78-82e7-09a208419347",
   "metadata": {},
   "outputs": [
    {
     "data": {
      "text/plain": [
       "65"
      ]
     },
     "execution_count": 7,
     "metadata": {},
     "output_type": "execute_result"
    }
   ],
   "source": [
    "legs = {\n",
    "     (\"upd\",\"admu\"):{\n",
    "         \"travel_time_mins\":10\n",
    "     },\n",
    "     (\"admu\",\"dlsu\"):{\n",
    "         \"travel_time_mins\":35\n",
    "     },\n",
    "     (\"dlsu\",\"upd\"):{\n",
    "         \"travel_time_mins\":55\n",
    "     }\n",
    "}\n",
    "def eta(first_stop, second_stop, route_map):\n",
    "    repetitions = len(route_map)\n",
    "    stops = list(route_map.keys())\n",
    "    FirstStop = 0\n",
    "    SecondStop = 0\n",
    "    Time = 0\n",
    "    \n",
    "    for i in range(repetitions):\n",
    "        if first_stop == stops[i][0]:\n",
    "            FirstStop = i \n",
    "            \n",
    "    for i in range(repetitions):\n",
    "        if second_stop == stops[i][1]:\n",
    "            SecondStop = i\n",
    "    \n",
    "    if FirstStop <= SecondStop:\n",
    "        for j in range(repetitions):\n",
    "            if j >= FirstStop and j <= SecondStop:\n",
    "                if (FirstStop < SecondStop or FirstStop == SecondStop):\n",
    "                    NewDict = route_map[stops[j]]\n",
    "                    Time += NewDict['travel_time_mins']\n",
    "                    \n",
    "    if FirstStop > SecondStop:\n",
    "        for k in range(repetitions):\n",
    "            if k <= SecondStop or k >= FirstStop:\n",
    "                NewDict = route_map[stops[k]]\n",
    "                Time += NewDict['travel_time_mins']\n",
    "                \n",
    "    return(Time)\n",
    "\n",
    "\n",
    "eta(\"dlsu\", \"admu\", legs)"
   ]
  },
  {
   "cell_type": "code",
   "execution_count": null,
   "id": "a96beb33-e1d5-4007-b8d5-5a684fa42d24",
   "metadata": {},
   "outputs": [],
   "source": []
  },
  {
   "cell_type": "code",
   "execution_count": 20,
   "id": "bed0dde5-d232-4fff-b6ea-f25a9ee300ef",
   "metadata": {
    "tags": []
   },
   "outputs": [
    {
     "data": {
      "text/plain": [
       "('upd', False)"
      ]
     },
     "execution_count": 91,
     "metadata": {},
     "output_type": "execute_result"
    }
   ],
   "source": []
  },
  {
   "cell_type": "code",
   "execution_count": null,
   "id": "a1025fdc-1583-420b-8439-e4c26175eb03",
   "metadata": {},
   "outputs": [
    {
     "name": "stdout",
     "output_type": "stream",
     "text": [
      "[['AB', 'BC'], ['AD', 'DC'], ['AD', 'DE', 'EB', 'BC'], ['AE', 'EB', 'BC']]\n"
     ]
    }
   ],
   "source": [
    "paths = ['AB', 'BC', 'CD', 'DC', 'DE', 'AD', 'CE', 'EB', 'AE']\n",
    "\n",
    "\n",
    "def route_variations(first_stop, last_stop, max_stops):\n",
    "    possible_routes = []\n",
    "    if max_stops == 0 or first_stop == last_stop:\n",
    "        return possible_routes\n",
    "    for path in paths:\n",
    "        x,y = path\n",
    "        if first_stop == x:\n",
    "            if last_stop == y:\n",
    "                possible_routes.append([path])\n",
    "            routes_from_this_stop = route_variations(y, last_stop, max_stops - 1)\n",
    "            possible_routes.extend([[path] + route for route in routes_from_this_stop])\n",
    "    return possible_routes\n",
    "\n",
    "\n",
    "print(route_variations('A', 'C', 10))"
   ]
  }
 ],
 "metadata": {
  "kernelspec": {
   "display_name": "Python 3 (ipykernel)",
   "language": "python",
   "name": "python3"
  },
  "language_info": {
   "codemirror_mode": {
    "name": "ipython",
    "version": 3
   },
   "file_extension": ".py",
   "mimetype": "text/x-python",
   "name": "python",
   "nbconvert_exporter": "python",
   "pygments_lexer": "ipython3",
   "version": "3.9.12"
  }
 },
 "nbformat": 4,
 "nbformat_minor": 5
}
