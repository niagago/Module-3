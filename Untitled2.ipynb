{
 "cells": [
  {
   "cell_type": "code",
   "execution_count": 17,
   "id": "a33ed593-2814-4a7d-a52d-09575c0101b2",
   "metadata": {},
   "outputs": [
    {
     "data": {
      "text/plain": [
       "'A'"
      ]
     },
     "execution_count": 17,
     "metadata": {},
     "output_type": "execute_result"
    }
   ],
   "source": [
    "def shift_letter(letter, number):\n",
    "    alphabet = list(' ABCDEFGHIJKLMNOPQRSTUVWXYZ')\n",
    "    letter_number = (ord('@')+(alphabet.index(letter))+number) \n",
    "    if letter_number >= 91:\n",
    "        return chr(letter_number - 26)\n",
    "    elif letter == \" \":\n",
    "        print ('\" \"')\n",
    "    else:\n",
    "        return chr(letter_number)\n",
    "    \n",
    "shift_letter (\"A\",26)   "
   ]
  },
  {
   "cell_type": "code",
   "execution_count": 181,
   "id": "e63cfc2c-60f4-439a-8b9a-5206f0e10e0b",
   "metadata": {},
   "outputs": [
    {
     "data": {
      "text/plain": [
       "'UVC[E\"IKTNU'"
      ]
     },
     "execution_count": 181,
     "metadata": {},
     "output_type": "execute_result"
    }
   ],
   "source": [
    "def caesar_cipher(message, shift):\n",
    "    n = [ord(x) - 64 + shift for x in message]\n",
    "    words_list = list(n)\n",
    "    cipher = [chr(x+64) for x in words_list]\n",
    "    cipher_2 = [chr(x+64-26) for x in words_list]\n",
    "    if '!' in cipher :\n",
    "        return ''.join(cipher). replace(\"!\", \" \")\n",
    "    else:\n",
    "        return ''.join(cipher)\n",
    "    \n",
    "caesar_cipher(\"STAYC GIRLS\", 2)"
   ]
  },
  {
   "cell_type": "code",
   "execution_count": null,
   "id": "41130c94-8eb0-4930-bce3-bc04467bd649",
   "metadata": {},
   "outputs": [],
   "source": []
  },
  {
   "cell_type": "code",
   "execution_count": 75,
   "id": "2846302f-5206-4512-b3c0-f45697153372",
   "metadata": {},
   "outputs": [
    {
     "data": {
      "text/plain": [
       "'TUBZD HJSMT'"
      ]
     },
     "execution_count": 75,
     "metadata": {},
     "output_type": "execute_result"
    }
   ],
   "source": [
    "def caesar_cipher(message, shift):\n",
    "    n = [ord(x) - 64 + shift for x in message]\n",
    "    words_list = list(n)\n",
    "    cipher = [chr(x+64) for x in words_list]\n",
    "    if '!' in cipher :\n",
    "        return ''.join(cipher). replace(\"!\", \" \")\n",
    "    else:\n",
    "        return ''.join(cipher)\n",
    "    \n",
    "caesar_cipher(\"STAYC GIRLS\", 1)"
   ]
  },
  {
   "cell_type": "code",
   "execution_count": 18,
   "id": "523a193e-5ccb-4155-b5cc-036b7fd1e45b",
   "metadata": {},
   "outputs": [
    {
     "name": "stdout",
     "output_type": "stream",
     "text": [
      "TUBZD HJSMT JU'T HPJOH EPXO\n"
     ]
    }
   ],
   "source": [
    "import string\n",
    "\n",
    "message = \"STAYC GIRLS IT'S GOING DOWN\"\n",
    "shift = 1\n",
    "\n",
    "alphabet = string.ascii_uppercase\n",
    "shifted = alphabet[shift:] + alphabet[:shift]\n",
    "table = str.maketrans(alphabet, shifted)\n",
    "encrypted = message.translate(table)\n",
    "print (encrypted)"
   ]
  },
  {
   "cell_type": "code",
   "execution_count": 40,
   "id": "5fdec401-5b87-4d75-a742-cf0ea700ef48",
   "metadata": {},
   "outputs": [
    {
     "data": {
      "text/plain": [
       "'S'"
      ]
     },
     "execution_count": 40,
     "metadata": {},
     "output_type": "execute_result"
    }
   ],
   "source": [
    "def shift_letter(letter, letter_shift):\n",
    "    alphabet = list(' ABCDEFGHIJKLMNOPQRSTUVWXYZ')\n",
    "    alphabet_2 = list('ABCDEFGHIJKLMNOPQRSTUVWXYZ')\n",
    "    letter_number = (ord('@')+(alphabet.index(letter))+(alphabet_2.index(letter_shift))) \n",
    "    if letter_number >= 91:\n",
    "        return chr(letter_number - 26)\n",
    "    elif letter == \" \":\n",
    "        print ('\" \"')\n",
    "    else:\n",
    "        return chr(letter_number)\n",
    "    \n",
    "shift_letter (\"J\",\"J\")  "
   ]
  },
  {
   "cell_type": "code",
   "execution_count": 77,
   "id": "fa8a1a90-1fba-442f-977d-10fc108f538f",
   "metadata": {},
   "outputs": [
    {
     "data": {
      "text/plain": [
       "'KEAWE'"
      ]
     },
     "execution_count": 77,
     "metadata": {},
     "output_type": "execute_result"
    }
   ],
   "source": [
    "alphabet = 'ABCDEFGHIJKLMNOPQRSTUVWXYZ'\n",
    "letter_number = dict(zip(alphabet, range(len(alphabet))))\n",
    "number_letter = dict(zip(range(len(alphabet)), alphabet))\n",
    "\n",
    "def vigenere_cipher(message, key):\n",
    "    encrypted = ''\n",
    "    \n",
    "    split_message = [message[i:i + len(key)] for i in range (0, len(message), len(key))]\n",
    "    \n",
    "    for each_split in split_message:\n",
    "        i = 0\n",
    "        for letter in each_split:\n",
    "            number = (letter_number[letter] + letter_number[key[i]]) % len(alphabet)\n",
    "            encrypted += number_letter[number]\n",
    "            i+=1\n",
    "        \n",
    "        return encrypted\n",
    "       \n",
    "vigenere_cipher (\"STAYC\", \"SLAYC\")"
   ]
  },
  {
   "cell_type": "code",
   "execution_count": 87,
   "id": "b06829e6-9c03-464a-bdad-fc3b2da63b85",
   "metadata": {},
   "outputs": [
    {
     "data": {
      "text/plain": [
       "'ALGORITHMS_ARE_IMPORTANT'"
      ]
     },
     "execution_count": 87,
     "metadata": {},
     "output_type": "execute_result"
    }
   ],
   "source": [
    "def scytale_cipher(message, shift):\n",
    "    assert len(message) % shift == 0\n",
    "    columns = len(message) // shift\n",
    "    ciphertext = ['-'] * len(message)\n",
    "    for i in range(len(message)):\n",
    "        row = i // columns\n",
    "        col = i % columns\n",
    "        ciphertext[col * shift + row] = message[i]\n",
    "    return \"\".join(ciphertext)\n",
    "\n",
    "def scytale_decipher(message, shift):\n",
    "    assert len(message) % shift == 0\n",
    "    return encrypt(len(message) // shift, message)\n",
    "\n",
    "scytale_decipher (\"AOTSRIOALRH_EMRNGIMA_PTT\", 8)"
   ]
  },
  {
   "cell_type": "code",
   "execution_count": 88,
   "id": "3864ec3c-1f98-4fa6-876e-11777a3dd3d7",
   "metadata": {},
   "outputs": [
    {
     "data": {
      "text/plain": [
       "'IMNNA_FTAOIGROE'"
      ]
     },
     "execution_count": 88,
     "metadata": {},
     "output_type": "execute_result"
    }
   ],
   "source": [
    "def scytale_cipher(message, shift):\n",
    "    assert len(message) % shift == 0\n",
    "    columns = len(message) // shift\n",
    "    ciphertext = ['-'] * len(message)\n",
    "    for i in range(len(message)):\n",
    "        row = i // columns\n",
    "        col = i % columns\n",
    "        ciphertext[col * shift + row] = message[i]\n",
    "    return \"\".join(ciphertext)\n",
    "\n",
    "scytale_cipher(\"INFORMATION_AGE\", 3)"
   ]
  },
  {
   "cell_type": "code",
   "execution_count": 85,
   "id": "539a6571-c258-4219-8a92-868750db660e",
   "metadata": {},
   "outputs": [
    {
     "data": {
      "text/plain": [
       "'INFORMATION_AGE'"
      ]
     },
     "execution_count": 85,
     "metadata": {},
     "output_type": "execute_result"
    }
   ],
   "source": [
    "def encrypt(rows, plaintext):\n",
    "    assert len(plaintext) % rows == 0\n",
    "    n = len(plaintext)\n",
    "    columns = n // rows\n",
    "    ciphertext = ['-'] * n\n",
    "    for i in range(n):\n",
    "        row = i // columns\n",
    "        col = i % columns\n",
    "        ciphertext[col * rows + row] = plaintext[i]\n",
    "    return \"\".join(ciphertext)\n",
    "\n",
    "def decrypt(rows, ciphertext):\n",
    "    assert len(ciphertext) % rows == 0\n",
    "    return encrypt(len(ciphertext) // rows, ciphertext)\n",
    "\n",
    "decrypt (3, \"IMNNA_FTAOIGROE\")"
   ]
  },
  {
   "cell_type": "code",
   "execution_count": 89,
   "id": "0f4705a8-7b7f-48f6-8efe-44cb146510eb",
   "metadata": {},
   "outputs": [
    {
     "data": {
      "text/plain": [
       "'ALGORITHMS_ARE_IMPORTANT'"
      ]
     },
     "execution_count": 89,
     "metadata": {},
     "output_type": "execute_result"
    }
   ],
   "source": [
    "def scytale_decipher(message, shift):\n",
    "    assert len(message) % shift == 0\n",
    "    return encrypt(len(message) // shift, message)\n",
    "\n",
    "scytale_decipher (\"AOTSRIOALRH_EMRNGIMA_PT\", 8)"
   ]
  },
  {
   "cell_type": "code",
   "execution_count": null,
   "id": "a12ab485-0bb8-49ba-94e8-22301c27a5f2",
   "metadata": {},
   "outputs": [],
   "source": []
  }
 ],
 "metadata": {
  "kernelspec": {
   "display_name": "Python 3 (ipykernel)",
   "language": "python",
   "name": "python3"
  },
  "language_info": {
   "codemirror_mode": {
    "name": "ipython",
    "version": 3
   },
   "file_extension": ".py",
   "mimetype": "text/x-python",
   "name": "python",
   "nbconvert_exporter": "python",
   "pygments_lexer": "ipython3",
   "version": "3.9.12"
  }
 },
 "nbformat": 4,
 "nbformat_minor": 5
}
