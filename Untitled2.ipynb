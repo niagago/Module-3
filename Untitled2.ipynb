{
 "cells": [
  {
   "cell_type": "code",
   "execution_count": 83,
   "id": "a33ed593-2814-4a7d-a52d-09575c0101b2",
   "metadata": {},
   "outputs": [
    {
     "data": {
      "text/plain": [
       "' '"
      ]
     },
     "execution_count": 83,
     "metadata": {},
     "output_type": "execute_result"
    }
   ],
   "source": [
    "def shift_letter(letter, shift):\n",
    "    alphabet = list(' ABCDEFGHIJKLMNOPQRSTUVWXYZ')\n",
    "    letter_number = (ord('@')+(alphabet.index(letter))+shift) \n",
    "    if letter_number >= 91:\n",
    "        return chr(letter_number - 26)\n",
    "    elif letter == \" \":\n",
    "        return letter\n",
    "    else:\n",
    "        return chr(letter_number)\n",
    "    \n",
    "shift_letter (\" \",2)   "
   ]
  },
  {
   "cell_type": "code",
   "execution_count": 99,
   "id": "e63cfc2c-60f4-439a-8b9a-5206f0e10e0b",
   "metadata": {},
   "outputs": [
    {
     "data": {
      "text/plain": [
       "'UVCAE IKTNU'"
      ]
     },
     "execution_count": 99,
     "metadata": {},
     "output_type": "execute_result"
    }
   ],
   "source": [
    "def caesar_cipher(message, shift):\n",
    "    import string\n",
    "    import math\n",
    "\n",
    "    alphabet_string = string.ascii_uppercase\n",
    "    alphabet_list = list(alphabet_string)\n",
    "\n",
    "    message_list = list(message)\n",
    "    i = 0\n",
    "    max = len(message_list)\n",
    "\n",
    "    cipher_list = list()\n",
    "\n",
    "    while i < max:\n",
    "        letter = message_list[i]\n",
    "\n",
    "        if letter == \" \":\n",
    "            cipher_list.append(\" \")\n",
    "            i += 1   \n",
    "\n",
    "        elif letter != \" \":\n",
    "            j = alphabet_list.index(letter)\n",
    "\n",
    "            if (j+shift) < len(alphabet_list):\n",
    "                cipher_list.append(alphabet_list[j+shift])\n",
    "                i += 1  \n",
    "\n",
    "            elif (j+shift) >= len(alphabet_list):\n",
    "                x = (j+shift)/len(alphabet_list)\n",
    "                z = math.ceil(x)\n",
    "                j = j - len(alphabet_list)\n",
    "                alphabet_list2 = alphabet_list*z\n",
    "                cipher_list.append(alphabet_list2[j+shift])\n",
    "                i += 1 \n",
    "\n",
    "    return(\"\".join(cipher_list))\n",
    "        \n",
    "    \n",
    "caesar_cipher(\"STAYC GIRLS\", 2)"
   ]
  },
  {
   "cell_type": "code",
   "execution_count": 92,
   "id": "41130c94-8eb0-4930-bce3-bc04467bd649",
   "metadata": {},
   "outputs": [
    {
     "ename": "SyntaxError",
     "evalue": "invalid syntax (397282184.py, line 12)",
     "output_type": "error",
     "traceback": [
      "\u001b[1;36m  Input \u001b[1;32mIn [92]\u001b[1;36m\u001b[0m\n\u001b[1;33m    caesar_cipher(\"STAYC\", 2):\u001b[0m\n\u001b[1;37m                              ^\u001b[0m\n\u001b[1;31mSyntaxError\u001b[0m\u001b[1;31m:\u001b[0m invalid syntax\n"
     ]
    }
   ],
   "source": [
    "def caesar_cipher(message, shift):\n",
    "    import string\n",
    "\n",
    "    alphabet_string = string.ascii_uppercase\n",
    "    shifted = alphabet_string[shift:] + alphabet_string[:shift]\n",
    "    table = str.maketrans(alphabet_string, shifted)\n",
    "\n",
    "    final_message = message.translate(table)\n",
    "\n",
    "    print(final_message)\n",
    "    \n",
    "caesar_cipher(\"STAYC\", 2):"
   ]
  },
  {
   "cell_type": "code",
   "execution_count": 84,
   "id": "2846302f-5206-4512-b3c0-f45697153372",
   "metadata": {},
   "outputs": [
    {
     "ename": "NameError",
     "evalue": "name 'letter' is not defined",
     "output_type": "error",
     "traceback": [
      "\u001b[1;31m---------------------------------------------------------------------------\u001b[0m",
      "\u001b[1;31mNameError\u001b[0m                                 Traceback (most recent call last)",
      "Input \u001b[1;32mIn [84]\u001b[0m, in \u001b[0;36m<cell line: 10>\u001b[1;34m()\u001b[0m\n\u001b[0;32m      7\u001b[0m     \u001b[38;5;28;01melse\u001b[39;00m:\n\u001b[0;32m      8\u001b[0m         \u001b[38;5;28;01mreturn\u001b[39;00m \u001b[38;5;124m'\u001b[39m\u001b[38;5;124m'\u001b[39m\u001b[38;5;241m.\u001b[39mjoin(cipher)\n\u001b[1;32m---> 10\u001b[0m \u001b[43mcaesar_cipher\u001b[49m\u001b[43m(\u001b[49m\u001b[38;5;124;43m\"\u001b[39;49m\u001b[38;5;124;43mSTAYC GIRLZ\u001b[39;49m\u001b[38;5;124;43m\"\u001b[39;49m\u001b[43m,\u001b[49m\u001b[43m \u001b[49m\u001b[38;5;241;43m1\u001b[39;49m\u001b[43m)\u001b[49m\n",
      "Input \u001b[1;32mIn [84]\u001b[0m, in \u001b[0;36mcaesar_cipher\u001b[1;34m(message, shift)\u001b[0m\n\u001b[0;32m      4\u001b[0m cipher \u001b[38;5;241m=\u001b[39m [\u001b[38;5;28mchr\u001b[39m(x\u001b[38;5;241m+\u001b[39m\u001b[38;5;241m64\u001b[39m) \u001b[38;5;28;01mfor\u001b[39;00m x \u001b[38;5;129;01min\u001b[39;00m words_list]\n\u001b[0;32m      5\u001b[0m \u001b[38;5;28;01mif\u001b[39;00m \u001b[38;5;124m'\u001b[39m\u001b[38;5;124m!\u001b[39m\u001b[38;5;124m'\u001b[39m \u001b[38;5;129;01min\u001b[39;00m cipher :\n\u001b[1;32m----> 6\u001b[0m     \u001b[38;5;28;01mreturn\u001b[39;00m \u001b[38;5;124m'\u001b[39m\u001b[38;5;124m'\u001b[39m\u001b[38;5;241m.\u001b[39mjoin(cipher)\u001b[38;5;241m.\u001b[39m replace(\u001b[38;5;124m\"\u001b[39m\u001b[38;5;124m!\u001b[39m\u001b[38;5;124m\"\u001b[39m, \u001b[43mletter\u001b[49m)\n\u001b[0;32m      7\u001b[0m \u001b[38;5;28;01melse\u001b[39;00m:\n\u001b[0;32m      8\u001b[0m     \u001b[38;5;28;01mreturn\u001b[39;00m \u001b[38;5;124m'\u001b[39m\u001b[38;5;124m'\u001b[39m\u001b[38;5;241m.\u001b[39mjoin(cipher)\n",
      "\u001b[1;31mNameError\u001b[0m: name 'letter' is not defined"
     ]
    }
   ],
   "source": [
    "def caesar_cipher(message, shift):\n",
    "    n = [ord(x) - 64 + shift for x in message]\n",
    "    words_list = list(n)\n",
    "    cipher = [chr(x+64) for x in words_list]\n",
    "    if '!' in cipher :\n",
    "        return ''.join(cipher). replace(\"!\", letter)\n",
    "    else:\n",
    "        return ''.join(cipher)\n",
    "    \n",
    "caesar_cipher(\"STAYC GIRLZ\", 1)"
   ]
  },
  {
   "cell_type": "code",
   "execution_count": 37,
   "id": "523a193e-5ccb-4155-b5cc-036b7fd1e45b",
   "metadata": {},
   "outputs": [
    {
     "data": {
      "text/plain": [
       "'TUBZD HJSMA'"
      ]
     },
     "execution_count": 37,
     "metadata": {},
     "output_type": "execute_result"
    }
   ],
   "source": [
    "def caesar_cipher(message, shift):\n",
    "    import string\n",
    "\n",
    "    alphabet = string.ascii_uppercase\n",
    "    shifted = alphabet[shift:] + alphabet[:shift]\n",
    "    table = str.maketrans(alphabet, shifted)\n",
    "    caesar_message = message.translate(table)\n",
    "    return (caesar_message)\n",
    "\n",
    "caesar_cipher(\"STAYC GIRLZ\", 1)"
   ]
  },
  {
   "cell_type": "code",
   "execution_count": 87,
   "id": "5fdec401-5b87-4d75-a742-cf0ea700ef48",
   "metadata": {},
   "outputs": [
    {
     "data": {
      "text/plain": [
       "' '"
      ]
     },
     "execution_count": 87,
     "metadata": {},
     "output_type": "execute_result"
    }
   ],
   "source": [
    "def shift_letter(letter, letter_shift):\n",
    "    alphabet = list(' ABCDEFGHIJKLMNOPQRSTUVWXYZ')\n",
    "    alphabet_2 = list('ABCDEFGHIJKLMNOPQRSTUVWXYZ')\n",
    "    letter_number = (ord('@')+(alphabet.index(letter))+(alphabet_2.index(letter_shift))) \n",
    "    if letter_number >= 91:\n",
    "        return chr(letter_number - 26)\n",
    "    elif letter == \" \":\n",
    "        return letter\n",
    "    else:\n",
    "        return chr(letter_number)\n",
    "    \n",
    "shift_letter (\" \",\"J\")  "
   ]
  },
  {
   "cell_type": "code",
   "execution_count": 62,
   "id": "fa8a1a90-1fba-442f-977d-10fc108f538f",
   "metadata": {},
   "outputs": [
    {
     "data": {
      "text/plain": [
       "'KEAWE'"
      ]
     },
     "execution_count": 62,
     "metadata": {},
     "output_type": "execute_result"
    }
   ],
   "source": [
    "def vigenere_cipher(message, key):\n",
    "    pass\n",
    "    key_length = len(key)\n",
    "    key_as_int = [ord(i) for i in key]\n",
    "    message_int = [ord(i) for i in message]\n",
    "    final_answer = ''\n",
    "    for i in range(len(message_int)):\n",
    "        if message[i].isalpha():\n",
    "            value = (message_int[i] + key_as_int[i % key_length]) % 26\n",
    "            final_answer += chr(value + 65)\n",
    "        else:\n",
    "            final_answer += message[i]\n",
    "    return final_answer\n",
    "       \n",
    "vigenere_cipher (\"STAYC\", \"SLAYC\")"
   ]
  },
  {
   "cell_type": "code",
   "execution_count": 87,
   "id": "b06829e6-9c03-464a-bdad-fc3b2da63b85",
   "metadata": {},
   "outputs": [
    {
     "data": {
      "text/plain": [
       "'ALGORITHMS_ARE_IMPORTANT'"
      ]
     },
     "execution_count": 87,
     "metadata": {},
     "output_type": "execute_result"
    }
   ],
   "source": [
    "def scytale_cipher(message, shift):\n",
    "    assert len(message) % shift == 0\n",
    "    columns = len(message) // shift\n",
    "    ciphertext = ['-'] * len(message)\n",
    "    for i in range(len(message)):\n",
    "        row = i // columns\n",
    "        col = i % columns\n",
    "        ciphertext[col * shift + row] = message[i]\n",
    "    return \"\".join(ciphertext)\n",
    "\n",
    "def scytale_decipher(message, shift):\n",
    "    assert len(message) % shift == 0\n",
    "    return encrypt(len(message) // shift, message)\n",
    "\n",
    "scytale_decipher (\"AOTSRIOALRH_EMRNGIMA_PTT\", 8)"
   ]
  },
  {
   "cell_type": "code",
   "execution_count": 59,
   "id": "3864ec3c-1f98-4fa6-876e-11777a3dd3d7",
   "metadata": {},
   "outputs": [
    {
     "data": {
      "text/plain": [
       "'IMNNA_FTAOIGROE'"
      ]
     },
     "execution_count": 59,
     "metadata": {},
     "output_type": "execute_result"
    }
   ],
   "source": [
    "def scytale_cipher(message, shift):\n",
    "    if len(message) % shift == 0:\n",
    "        length = len(message)\n",
    "        columns = length // shift\n",
    "        output = [''] * length\n",
    "        for i in range(length):\n",
    "            element_one = i // columns\n",
    "            element_two = i % columns\n",
    "            output[element_two * shift + element_one] = message[i]\n",
    "        return \"\".join(output)\n",
    "    else:\n",
    "        underscore = '_'\n",
    "        solve = shift - (len(message) % shift)\n",
    "        answer = message + ''.join([char * solve for char in underscore])\n",
    "        length = len(new_word)\n",
    "        columns = length // shift\n",
    "        output = length * ['-']\n",
    "        for i in range(length):\n",
    "            element_one = i // columns\n",
    "            element_two = i % columns\n",
    "            output[element_two * shift + element_one] = answer[i]\n",
    "        return \"\".join(output)\n",
    "\n",
    "scytale_cipher(\"INFORMATION_AGE\", 3)"
   ]
  },
  {
   "cell_type": "code",
   "execution_count": 48,
   "id": "539a6571-c258-4219-8a92-868750db660e",
   "metadata": {},
   "outputs": [
    {
     "data": {
      "text/plain": [
       "'INFORMATION_AGE'"
      ]
     },
     "execution_count": 48,
     "metadata": {},
     "output_type": "execute_result"
    }
   ],
   "source": [
    "def encrypt(rows, plaintext):\n",
    "    assert len(plaintext) % rows == 0\n",
    "    n = len(plaintext)\n",
    "    columns = n // rows\n",
    "    ciphertext = ['-'] * n\n",
    "    for i in range(n):\n",
    "        row = i // columns\n",
    "        col = i % columns\n",
    "        ciphertext[col * rows + row] = plaintext[i]\n",
    "    return \"\".join(ciphertext)\n",
    "\n",
    "def decrypt(rows, ciphertext):\n",
    "    assert len(ciphertext) % rows == 0\n",
    "    return encrypt(len(ciphertext) // rows, ciphertext)\n",
    "\n",
    "decrypt (3, \"IMNNA_FTAOIGROE\")"
   ]
  },
  {
   "cell_type": "code",
   "execution_count": 47,
   "id": "0f4705a8-7b7f-48f6-8efe-44cb146510eb",
   "metadata": {},
   "outputs": [
    {
     "ename": "NameError",
     "evalue": "name 'encrypt' is not defined",
     "output_type": "error",
     "traceback": [
      "\u001b[1;31m---------------------------------------------------------------------------\u001b[0m",
      "\u001b[1;31mNameError\u001b[0m                                 Traceback (most recent call last)",
      "Input \u001b[1;32mIn [47]\u001b[0m, in \u001b[0;36m<cell line: 5>\u001b[1;34m()\u001b[0m\n\u001b[0;32m      2\u001b[0m     \u001b[38;5;28;01massert\u001b[39;00m \u001b[38;5;28mlen\u001b[39m(message) \u001b[38;5;241m%\u001b[39m shift \u001b[38;5;241m==\u001b[39m \u001b[38;5;241m0\u001b[39m\n\u001b[0;32m      3\u001b[0m     \u001b[38;5;28;01mreturn\u001b[39;00m encrypt(\u001b[38;5;28mlen\u001b[39m(message) \u001b[38;5;241m/\u001b[39m\u001b[38;5;241m/\u001b[39m shift, message)\n\u001b[1;32m----> 5\u001b[0m \u001b[43mscytale_decipher\u001b[49m\u001b[43m \u001b[49m\u001b[43m(\u001b[49m\u001b[38;5;124;43m\"\u001b[39;49m\u001b[38;5;124;43mIMNNA_FTAOIGROE\u001b[39;49m\u001b[38;5;124;43m\"\u001b[39;49m\u001b[43m,\u001b[49m\u001b[43m \u001b[49m\u001b[38;5;241;43m3\u001b[39;49m\u001b[43m)\u001b[49m\n",
      "Input \u001b[1;32mIn [47]\u001b[0m, in \u001b[0;36mscytale_decipher\u001b[1;34m(message, shift)\u001b[0m\n\u001b[0;32m      1\u001b[0m \u001b[38;5;28;01mdef\u001b[39;00m \u001b[38;5;21mscytale_decipher\u001b[39m(message, shift):\n\u001b[0;32m      2\u001b[0m     \u001b[38;5;28;01massert\u001b[39;00m \u001b[38;5;28mlen\u001b[39m(message) \u001b[38;5;241m%\u001b[39m shift \u001b[38;5;241m==\u001b[39m \u001b[38;5;241m0\u001b[39m\n\u001b[1;32m----> 3\u001b[0m     \u001b[38;5;28;01mreturn\u001b[39;00m \u001b[43mencrypt\u001b[49m(\u001b[38;5;28mlen\u001b[39m(message) \u001b[38;5;241m/\u001b[39m\u001b[38;5;241m/\u001b[39m shift, message)\n",
      "\u001b[1;31mNameError\u001b[0m: name 'encrypt' is not defined"
     ]
    }
   ],
   "source": [
    "def scytale_decipher(message, shift):\n",
    "    assert len(message) % shift == 0\n",
    "    return encrypt(len(message) // shift, message)\n",
    "\n",
    "scytale_decipher (\"IMNNA_FTAOIGROE\", 3)"
   ]
  },
  {
   "cell_type": "code",
   "execution_count": 54,
   "id": "a12ab485-0bb8-49ba-94e8-22301c27a5f2",
   "metadata": {},
   "outputs": [
    {
     "data": {
      "text/plain": [
       "'INFORMATION_AGE'"
      ]
     },
     "execution_count": 54,
     "metadata": {},
     "output_type": "execute_result"
    }
   ],
   "source": [
    "def scytale_decipher(message, shift):\n",
    "    assert len(message) % shift == 0\n",
    "    return encrypt(len(message) // shift, message)\n",
    "\n",
    "scytale_decipher(\"IMNNA_FTAOIGROE\", 3)"
   ]
  },
  {
   "cell_type": "code",
   "execution_count": 71,
   "id": "356d1aca-fe4c-48b5-9566-c80e6f46ed16",
   "metadata": {},
   "outputs": [
    {
     "name": "stdout",
     "output_type": "stream",
     "text": [
      "\" \"\n"
     ]
    }
   ],
   "source": [
    "def shift_letter(letter, letter_shift):\n",
    "    pass\n",
    "    import string\n",
    "    import math\n",
    "    alphabet_string = string.ascii_uppercase\n",
    "    alphabet_list = list(alphabet_string)\n",
    "    \n",
    "    if (letter in alphabet_list):\n",
    "        return alphabet_list[alphabet_list.index(letter) + alphabet_list.index(letter_shift) - (26 * (math.floor((alphabet_list.index(letter) + alphabet_list.index(letter_shift))/26)))]\n",
    "    elif letter == \" \" :\n",
    "        print('\" \"')\n",
    "    else:\n",
    "        return (str(letter))\n",
    "\n",
    "shift_letter(\" \", \"A\")"
   ]
  },
  {
   "cell_type": "code",
   "execution_count": null,
   "id": "3980ac7e-f17a-41a8-a602-ca0ffe0a417c",
   "metadata": {},
   "outputs": [],
   "source": []
  }
 ],
 "metadata": {
  "kernelspec": {
   "display_name": "Python 3 (ipykernel)",
   "language": "python",
   "name": "python3"
  },
  "language_info": {
   "codemirror_mode": {
    "name": "ipython",
    "version": 3
   },
   "file_extension": ".py",
   "mimetype": "text/x-python",
   "name": "python",
   "nbconvert_exporter": "python",
   "pygments_lexer": "ipython3",
   "version": "3.9.12"
  }
 },
 "nbformat": 4,
 "nbformat_minor": 5
}
